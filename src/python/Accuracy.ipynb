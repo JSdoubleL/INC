{
 "cells": [
  {
   "cell_type": "code",
   "execution_count": 1,
   "metadata": {},
   "outputs": [],
   "source": [
    "% matplotlib inline"
   ]
  },
  {
   "cell_type": "code",
   "execution_count": 2,
   "metadata": {},
   "outputs": [],
   "source": [
    "import dendropy\n",
    "import numpy as np\n",
    "import random\n",
    "from tree import *\n",
    "from cfn_noise import create_noisy_dist_matrix\n",
    "from cfn_noise import measure_epsilon\n",
    "import matplotlib.pyplot as plt\n",
    "# import pdb\n",
    "from mst import prims_mst\n",
    "# DONE - 1. voting\n",
    "# DONE - 2. create MST\n",
    "# IP - 3. valid sampling?\n",
    "# 4. constraints\n",
    "# 5. ball growin\n",
    "# 6. other constraint methods?\n"
   ]
  },
  {
   "cell_type": "code",
   "execution_count": 3,
   "metadata": {},
   "outputs": [],
   "source": [
    "# read in strings\n",
    "# convert to trees and then to matrices\n",
    "def read_preprocess(tree_file):\n",
    "    tree_strings = []\n",
    "    with open(tree_file) as f: #100 trees, each with 10 leaves\n",
    "        for line in f.readlines():\n",
    "            tree_strings.append(line)\n",
    "    dendro_trees = []\n",
    "    distance_matrices = []\n",
    "    # find min branch lens for each tree\n",
    "    min_branch_lens = [float(\"inf\") for _ in range(len(tree_strings))]\n",
    "    for i in range(len(tree_strings)):\n",
    "        newick_string = tree_strings[i]\n",
    "        # get dendropy tree\n",
    "        tree = dendropy.Tree.get(data=newick_string,schema='newick')\n",
    "        dendro_trees.append(tree)\n",
    "\n",
    "        # get min branch length\n",
    "        for edge in tree.postorder_edge_iter():\n",
    "            if edge.length:\n",
    "                min_branch_lens[i] = min(min_branch_lens[i], edge.length)\n",
    "        # get tree distance matrix \n",
    "        tpdm = tree.phylogenetic_distance_matrix()\n",
    "        num_leaves = len(tree.leaf_nodes()) # for test_trees.txt, these are all the same...\n",
    "        dist_matrix = np.zeros((num_leaves,num_leaves)) \n",
    "        for tax1, tax2 in tpdm.distinct_taxon_pair_iter():\n",
    "            l1 = int(tax1.label)-1 # for test_trees.txt, nodes are 1-indexed, need to subtract 1\n",
    "            l2 = int(tax2.label)-1\n",
    "\n",
    "            dist_matrix[l1,l2] = tpdm.distance(tax1,tax2)\n",
    "            dist_matrix[l2,l1] = tpdm.distance(tax1,tax2)\n",
    "\n",
    "        distance_matrices.append(dist_matrix)\n",
    "    return tree_strings, dendro_trees, distance_matrices, min_branch_lens"
   ]
  },
  {
   "cell_type": "code",
   "execution_count": 4,
   "metadata": {},
   "outputs": [],
   "source": [
    "# higher order function, takes a matrix, and returns a function that takes 2 PNode leafs and returns distance\n",
    "# this is to keep the interface functional in case we want to change the process of getting interleaf distances\n",
    "# for example, computing distances on demand rather than precomputed\n",
    "def matrix_to_func(matrix):\n",
    "    def mat_func(i,j):\n",
    "        # i and j are PNodes. get their values, and dec by 1 (since they are 1-indexed)\n",
    "        ival,jval = i.get_val()-1,j.get_val()-1\n",
    "        return matrix[ival,jval]\n",
    "    return mat_func"
   ]
  },
  {
   "cell_type": "code",
   "execution_count": 5,
   "metadata": {},
   "outputs": [],
   "source": [
    "def add_noise(dendro_tree, true_matrix, min_branch_len,num_bits_list,scale=None):\n",
    "    \"\"\" add noise to TRUE_MATRIX according to topology in DENDRO_TREE\n",
    "        using list of ints in NUM_BITS as the number of bits in the mutated bit-string\n",
    "        and MIN_BRANCH_LEN to measure epsilon, noise\n",
    "        \n",
    "        return the list of noisy matrices, and measured epsilon values for them\n",
    "    \"\"\"\n",
    "    noisy_matrices = []\n",
    "    epsilons = []\n",
    "    for i in range(len(num_bits_list)):\n",
    "        noisy_mat = create_noisy_dist_matrix(dendro_tree,num_bits_list[i],scale)\n",
    "        noisy_matrices.append(noisy_mat)\n",
    "        epsilons.append(measure_epsilon(true_matrix, noisy_mat, min_branch_len))\n",
    "    return noisy_matrices,epsilons"
   ]
  },
  {
   "cell_type": "code",
   "execution_count": 6,
   "metadata": {},
   "outputs": [],
   "source": [
    "from inc import voting_with\n",
    "def INC(noisy_dist_matrix):\n",
    "    \"\"\"\n",
    "        - Estimate a tree, represented by NOISY_DIST_MATRIX by iteratively inserting leaves into it\n",
    "        - Use the custom PTree, which uses QUERY_FUNC to search for which edge to break.\n",
    "            \n",
    "    \"\"\"\n",
    "    # convert matrix to \"function\" interface\n",
    "    D = matrix_to_func(noisy_dist_matrix)\n",
    "    s_node, q_0, ordered_leaves = prims_mst(len(noisy_dist_matrix),D)\n",
    "    \n",
    "    # intialize tree\n",
    "    ptree = PTree(search_fn=voting_with(query, 8*q_0))\n",
    "    for l in ordered_leaves:\n",
    "        ptree.insert_leaf(l, D)\n",
    "    return ptree.make_newick_string()\n"
   ]
  },
  {
   "cell_type": "code",
   "execution_count": 7,
   "metadata": {},
   "outputs": [],
   "source": [
    "from ls import local_search_with\n",
    "def LS(matrix, start_close=True):\n",
    "    \"\"\"\n",
    "        estimate a tree using 'local search', where in each insertion we start at a leaf\n",
    "        and use node queries until we're told to backtrack.\n",
    "        \n",
    "        noisy_dist_matrix - numpy matrix describing interleaf distances\n",
    "        start_close - for each leaf to insert, start at the already-inserted leaf D-closest to the insert\n",
    "        return - a newick string of the tree\n",
    "    \"\"\"\n",
    "    D = matrix_to_func(matrix)\n",
    "    if start_close:\n",
    "        _,_,insert_order, start_leaf_order = prims_mst(len(matrix),D, True)\n",
    "    else:\n",
    "        _, _, insert_order = prims_mst(len(matrix),D)\n",
    "    ptree = PTree(search_fn=local_search_with(query))\n",
    "    for i in range(len(insert_order)):\n",
    "        insert_leaf = insert_order[i]\n",
    "        start_leaf = None\n",
    "        if start_close:\n",
    "            start_leaf = start_leaf_order[i]\n",
    "        ptree.insert_leaf(insert_order[i], D, start_leaf)\n",
    "    return ptree.make_newick_string()"
   ]
  },
  {
   "cell_type": "code",
   "execution_count": 8,
   "metadata": {},
   "outputs": [],
   "source": [
    "from skbio import DistanceMatrix\n",
    "from skbio.tree import nj\n",
    "\n",
    "def NJ(matrix):\n",
    "    \"\"\" \n",
    "        input: a numpy matrix \n",
    "        return: newick string corresponding to neighbor joining\n",
    "    \"\"\"\n",
    "    # one-index the tree for consistency with the input tree\n",
    "    ids = [str(i) for i in range(1, len(matrix) + 1)]\n",
    "    dm = DistanceMatrix(matrix, ids)\n",
    "    newick_str = nj(dm, result_constructor=str)\n",
    "    return newick_str"
   ]
  },
  {
   "cell_type": "code",
   "execution_count": 9,
   "metadata": {},
   "outputs": [],
   "source": [
    "def calc_accuracy(noisy_matrix, method, true_tree):\n",
    "    \"\"\" Calculate the accuracy of METHOD on the noisy_matrices, given that\n",
    "            the true tree structures given in TRUE_TREES iterable\n",
    "            \n",
    "        The metric is the true positive rate:\n",
    "            number of correct nontrivial edges / total true nontrivial edges\n",
    "        \n",
    "        METHOD must take a numpy matrix and return a newick string\n",
    "        \"\"\"\n",
    "    \n",
    "    num_correct = 0 # count the number of nontrivial edges correct\n",
    "    total = 0 # count to total nontrivial edges\n",
    "\n",
    "    est_string = method(noisy_matrix)\n",
    "    est_tree = dendropy.Tree.get(data=est_string,schema='newick')\n",
    "    # migrate taxon namespace so nodes in each tree are labeled in the same way\n",
    "    # so that the biparitions later code the same thing\n",
    "    est_tree.migrate_taxon_namespace(true_tree.taxon_namespace)\n",
    "\n",
    "    est_cuts = set(est_tree.encode_bipartitions())\n",
    "    true_cuts = set(true_tree.encode_bipartitions())\n",
    "\n",
    "    for cut in true_cuts:\n",
    "        # ignore trivial cuts, which are always shared\n",
    "        if not cut.is_trivial():\n",
    "            total += 1\n",
    "            if cut in est_cuts:\n",
    "                num_correct += 1\n",
    "    return num_correct/total"
   ]
  },
  {
   "cell_type": "code",
   "execution_count": 10,
   "metadata": {},
   "outputs": [],
   "source": [
    "def line_of_best_fit(xs,ys):\n",
    "    \"\"\" Given a list of x values, and their corresponding list of y values.\n",
    "        Return the slope and bias term\"\"\"\n",
    "    A = np.vstack([xs, np.ones(len(xs))]).T\n",
    "    m, b = np.linalg.lstsq(A, ys,rcond=None)[0]\n",
    "    return m,b"
   ]
  },
  {
   "cell_type": "markdown",
   "metadata": {},
   "source": [
    "# 1 Tree, 10 Leaves, (For debugging/prototyping)"
   ]
  },
  {
   "cell_type": "code",
   "execution_count": 11,
   "metadata": {},
   "outputs": [
    {
     "name": "stdout",
     "output_type": "stream",
     "text": [
      "0.421875\n",
      "2.3099548217676413\n"
     ]
    }
   ],
   "source": [
    "tree_strings, dendro_trees, distance_matrices, min_branch_lens =\\\n",
    "    read_preprocess(\"/media/sf_constraint_inc/data/trees_10_leaves.txt\")\n",
    "    \n",
    "tree = dendro_trees[0]\n",
    "true_mat = distance_matrices[0]\n",
    "mbl = min_branch_lens[0]\n",
    "SCALE = 4.5\n",
    "d,max_ham = create_noisy_dist_matrix(tree,2**9,SCALE,True)\n",
    "# adjust SCALE so max_ham in [0.4, 0.45]\n",
    "print(max_ham)\n",
    "print(measure_epsilon(d, true_mat,mbl))"
   ]
  },
  {
   "cell_type": "code",
   "execution_count": 12,
   "metadata": {},
   "outputs": [],
   "source": [
    "# estimate trees with neighbor joining for different epsilon\n",
    "nj_accuracies = [] \n",
    "ls_accuracies = []\n",
    "ls_close_accuracies = []\n",
    "voting_accuracies = []\n",
    "all_epsilons = []\n",
    "n = 10\n",
    "num_bits_list = [int(2**(i/n)) for i in range(9*n,12*n)]\n",
    "for i in range(1):\n",
    "    tree = dendro_trees[i]\n",
    "    mat = distance_matrices[i]\n",
    "    mbl = min_branch_lens[i]\n",
    "    noisy_matrices, epsilons = add_noise(tree, mat, mbl,num_bits_list,scale=SCALE)\n",
    "  \n",
    "    all_epsilons += epsilons\n",
    "    for noisy_matrix in noisy_matrices:\n",
    "        accuracy = calc_accuracy(noisy_matrix, NJ, tree)\n",
    "        nj_accuracies.append(accuracy)\n",
    "        accuracy = calc_accuracy(noisy_matrix, lambda x: LS(x, False), tree)\n",
    "        ls_accuracies.append(accuracy)\n",
    "        accuracy = calc_accuracy(noisy_matrix, lambda x: LS(x, True), tree)\n",
    "        ls_close_accuracies.append(accuracy)\n",
    "        accuracy = calc_accuracy(noisy_matrix, INC,tree)\n",
    "        voting_accuracies.append(accuracy)\n",
    "\n"
   ]
  },
  {
   "cell_type": "code",
   "execution_count": 13,
   "metadata": {},
   "outputs": [
    {
     "data": {
      "text/plain": [
       "Text(0.5,1,'Accuracy on 10 trees, 10 leaves each')"
      ]
     },
     "execution_count": 13,
     "metadata": {},
     "output_type": "execute_result"
    },
    {
     "data": {
      "image/png": "[encoded data removed]",
      "text/plain": [
       "<Figure size 720x504 with 1 Axes>"
      ]
     },
     "metadata": {},
     "output_type": "display_data"
    }
   ],
   "source": [
    "plt.figure(num=1, figsize=(10,7))\n",
    "\n",
    "p1 = plt.scatter(all_epsilons,nj_accuracies,c='blue',marker='o')\n",
    "p2 = plt.scatter(all_epsilons,ls_accuracies,c='red',marker='^')\n",
    "p3 = plt.scatter(all_epsilons,ls_close_accuracies,c='green',marker='x')\n",
    "p4 = plt.scatter(all_epsilons,voting_accuracies,c='black',marker='*')\n",
    "# p5 = plt.scatter(all_epsilons,global_ls_accuracies,c='magenta',marker='8')\n",
    "p1.set_label(\"Neighbor Joining\")\n",
    "p2.set_label(\"Local Search (arbitrary start)\")\n",
    "p3.set_label(\"Local Search (closest start)\")\n",
    "p4.set_label(\"INC\")\n",
    "# p5.set_label(\"Local Search (nonrandom leaf choice, ordered insert, global leaf update)\")\n",
    "plt.legend(loc='best')\n",
    "plt.xlabel(\"Epsilon Relative Noise\")\n",
    "plt.ylabel(\"Relative Accuracy, Nontrivial Edges\")\n",
    "# plt.xlim(0,2)\n",
    "plt.title(\"Accuracy on 10 trees, 10 leaves each\")"
   ]
  },
  {
   "cell_type": "markdown",
   "metadata": {},
   "source": [
    "# 1 tree, 100 leaves, many replicas\n"
   ]
  },
  {
   "cell_type": "code",
   "execution_count": 14,
   "metadata": {},
   "outputs": [],
   "source": [
    "l_tree_strings, l_dendro_trees, l_distance_matrices, l_min_branch_lens =\\\n",
    "    read_preprocess(\"/media/sf_constraint_inc/data/trees_100_leaves.txt\")"
   ]
  },
  {
   "cell_type": "code",
   "execution_count": 15,
   "metadata": {},
   "outputs": [
    {
     "name": "stdout",
     "output_type": "stream",
     "text": [
      "0.408935546875\n",
      "3.423562599413105\n"
     ]
    }
   ],
   "source": [
    "# adjust scale so max_ham in [0.4,0.45]\n",
    "SCALE = 25\n",
    "d,max_ham = create_noisy_dist_matrix(l_dendro_trees[0],2**14,SCALE,True)\n",
    "print(max_ham)\n",
    "print(measure_epsilon(d, l_distance_matrices[0],l_min_branch_lens[0]))"
   ]
  },
  {
   "cell_type": "code",
   "execution_count": 16,
   "metadata": {},
   "outputs": [
    {
     "name": "stdout",
     "output_type": "stream",
     "text": [
      "0.1.2.3.4.5.6.7.8.9.10.11.12.13.14.15.16.17.18.19.20.21.22.23.24.25.26.27.28.29.30.31.32.33.34.35.36.37.38.39.40.41.42.43.44.45.46.47.48.49.50.51.52.53.54.55.56.57.58.59.60.61.62.63.64.65.66.67.68.69.70.71.72.73.74.75.76.77.78.79.80.81.82.83.84.85.86.87.88.89.90.91.92.93.94.95.96.97.98.99."
     ]
    }
   ],
   "source": [
    "import time\n",
    "# estimate trees with neighbor joining for different epsilon\n",
    "l_all_epsilons = []\n",
    "accuracies_1 = [] \n",
    "accuracies_2 = []\n",
    "accuracies_3 = []\n",
    "# accuracies_4 = []\n",
    "# accuracies_5 = []\n",
    "n = 20\n",
    "num_bits_list = [int(2**(i/n)) for i in range(8*n,13*n)]\n",
    "times = [[],[],[],[],[]]\n",
    "for i in range(1):\n",
    "    tree = l_dendro_trees[i]\n",
    "    mat = l_distance_matrices[i]\n",
    "    mbl = l_min_branch_lens[i]\n",
    "    noisy_matrices, epsilons = add_noise(tree, mat, mbl,num_bits_list,scale=SCALE)\n",
    "  \n",
    "    l_all_epsilons += epsilons\n",
    "    for noisy_matrix in noisy_matrices:\n",
    "        print(i,end='.')\n",
    "        i += 1\n",
    "        \n",
    "        t = time.time()\n",
    "        accuracy = calc_accuracy(noisy_matrix, NJ, tree)\n",
    "        times[0].append(time.time() - t)\n",
    "        accuracies_1.append(accuracy)\n",
    "        \n",
    "        t = time.time()\n",
    "        accuracy = calc_accuracy(noisy_matrix, INC, tree)\n",
    "        times[1].append(time.time() - t)\n",
    "        accuracies_2.append(accuracy)\n",
    "        \n",
    "        t = time.time()\n",
    "        accuracy = calc_accuracy(noisy_matrix,lambda x: LS(x,True), tree)\n",
    "        times[2].append(time.time() - t)  \n",
    "        accuracies_3.append(accuracy)  "
   ]
  },
  {
   "cell_type": "code",
   "execution_count": 17,
   "metadata": {},
   "outputs": [
    {
     "name": "stdout",
     "output_type": "stream",
     "text": [
      "Neighbor Joining average time: 2.32487500667572\n",
      "INC (with tie-breaking rounds) average time: 0.12704798460006714\n",
      "Local Search (starting from closest leaf) average time: 0.03153846025466919\n"
     ]
    },
    {
     "data": {
      "image/png": "[encoded data removed]",
      "text/plain": [
       "<Figure size 720x504 with 1 Axes>"
      ]
     },
     "metadata": {},
     "output_type": "display_data"
    }
   ],
   "source": [
    "plt.figure(num=2, figsize=(10,7))\n",
    "p1 = plt.scatter(l_all_epsilons,accuracies_1,c='blue',marker='o')\n",
    "p2 = plt.scatter(l_all_epsilons,accuracies_2,c='red',marker='^')\n",
    "p3 = plt.scatter(l_all_epsilons,accuracies_3,c='green',marker='x')\n",
    "# p4 = plt.scatter(l_all_epsilons,accuracies_4,c='black',marker='*')\n",
    "# p5 = plt.scatter(l_all_epsilons,accuracies_5,c='magenta',marker='8')\n",
    "titles = [\"Neighbor Joining\",\n",
    "          \"INC (with tie-breaking rounds)\",\n",
    "          \"Local Search (starting from closest leaf)\"]\n",
    "FIGURE_TITLE = \"Accuracy on 1 tree, 100 leaves. NJ method and Voting methods\"\n",
    "p1.set_label(titles[0])\n",
    "p2.set_label(titles[1])\n",
    "p3.set_label(titles[2])\n",
    "# p4.set_label(titles[3])\n",
    "# p5.set_label(titles[4])\n",
    "plt.legend(loc='best')\n",
    "plt.xlabel(\"Epsilon, Relative Noise\")\n",
    "plt.ylabel(\"True Positive Rate, Nontrivial Edges\")\n",
    "# plt.xlim(0,2)\n",
    "plt.title(FIGURE_TITLE)\n",
    "\n",
    "m1,c1 = line_of_best_fit(l_all_epsilons,accuracies_1)\n",
    "m2,c2 = line_of_best_fit(l_all_epsilons,accuracies_2)\n",
    "m3,c3 = line_of_best_fit(l_all_epsilons,accuracies_3)\n",
    "# m4,c4 = line_of_best_fit(l_all_epsilons,accuracies_4)\n",
    "# m5,c5 = line_of_best_fit(l_all_epsilons,accuracies_5)\n",
    "xs = np.array(l_all_epsilons)\n",
    "# plt.figure(num=3, figsize=(10,7))\n",
    "# plt.plot(xs, m1*xs + c1, 'blue', label='{0} Fitted Line'.format(titles[0]))\n",
    "# plt.plot(xs, m2*xs + c2, 'red',  label='{0} Fitted Line'.format(titles[1]))\n",
    "# plt.plot(xs, m3*xs + c3, 'green', label='{0} Fitted Line'.format(titles[2]))\n",
    "# plt.plot(xs, m4*xs + c4, 'black', label='{0} Fitted Line'.format(titles[3]))\n",
    "# plt.plot(xs, m5*xs + c5, 'magenta', label='{0} Fitted Line'.format(titles[4]))\n",
    "\n",
    "print(\"{0} average time: {1}\".format(titles[0], sum(times[0])/len(times[0])))\n",
    "print(\"{0} average time: {1}\".format(titles[1], sum(times[1])/len(times[1])))\n",
    "print(\"{0} average time: {1}\".format(titles[2], sum(times[2])/len(times[2])))\n"
   ]
  }
 ],
 "metadata": {
  "kernelspec": {
   "display_name": "Python [default]",
   "language": "python",
   "name": "python3"
  },
  "language_info": {
   "codemirror_mode": {
    "name": "ipython",
    "version": 3
   },
   "file_extension": ".py",
   "mimetype": "text/x-python",
   "name": "python",
   "nbconvert_exporter": "python",
   "pygments_lexer": "ipython3",
   "version": "3.5.5"
  }
 },
 "nbformat": 4,
 "nbformat_minor": 2
}
